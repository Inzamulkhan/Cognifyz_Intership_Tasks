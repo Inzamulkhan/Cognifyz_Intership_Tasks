{
 "cells": [
  {
   "cell_type": "code",
   "execution_count": 1,
   "id": "dd4ae53e-98aa-4958-b294-09c426371bd4",
   "metadata": {},
   "outputs": [],
   "source": [
    "import pandas as pd\n",
    "import matplotlib.pyplot as plt\n",
    "import seaborn as sns"
   ]
  },
  {
   "cell_type": "code",
   "execution_count": null,
   "id": "c18e8aaf-618a-486f-9e3b-62ccc3c3293a",
   "metadata": {
    "scrolled": true
   },
   "outputs": [],
   "source": [
    "#Load the cleaned dataset\n",
    "df=pd.read_csv(r\"C:\\Users\\INZAMUL KHAN\\Downloads\\Cleaned_Dataset.xls\")\n",
    "df.head()"
   ]
  },
  {
   "cell_type": "code",
   "execution_count": null,
   "id": "d4c928dc-82a0-4143-a90f-5996eb09022b",
   "metadata": {
    "scrolled": true
   },
   "outputs": [],
   "source": [
    "#Ensure 'Price Range' Column is properly formatted\n",
    "print(\"Available columns:\", df.columns.tolist())"
   ]
  },
  {
   "cell_type": "code",
   "execution_count": 4,
   "id": "d53692aa-fee2-4341-aa33-872a15c819cd",
   "metadata": {},
   "outputs": [],
   "source": [
    "# Strip any unwanted spaces from column names\n",
    "df.columns = df.columns.str.strip()"
   ]
  },
  {
   "cell_type": "code",
   "execution_count": 5,
   "id": "43259b50-b50c-49ee-b0e2-25f5546fec10",
   "metadata": {},
   "outputs": [],
   "source": [
    "# Ensure 'Price Range' column exists\n",
    "if 'Price range' in df.columns:\n",
    "    df['Price range'] = pd.to_numeric(df['Price range'], errors='coerce')\n",
    "else:\n",
    "    print(\"Error: 'Price Range' column not found! Available columns:\", df.columns.tolist())"
   ]
  },
  {
   "cell_type": "code",
   "execution_count": 6,
   "id": "0bc3a5c6-9d12-4466-a0d0-133ac372ab85",
   "metadata": {},
   "outputs": [],
   "source": [
    "#Count the occureneces of each price range\n",
    "price_range_counts=df['Price range'].value_counts().sort_index()"
   ]
  },
  {
   "cell_type": "code",
   "execution_count": 7,
   "id": "25f4f87f-0eec-41f1-90b5-8b45d253c134",
   "metadata": {},
   "outputs": [],
   "source": [
    "#calculate percentage of retaurants in each price range\n",
    "total_restaurants=df.shape[0]\n",
    "price_range_percentage = (price_range_counts / total_restaurants)*100"
   ]
  },
  {
   "cell_type": "code",
   "execution_count": 8,
   "id": "d846776e-cc04-4594-984d-c1c438a4d690",
   "metadata": {},
   "outputs": [],
   "source": [
    "#creating a dataframe for saving resutl\n",
    "price_range_df=pd.DataFrame({'Price range': price_range_counts.index,\n",
    "                             'Restaurant Count': price_range_counts.values,\n",
    "                             'percentage':price_range_percentage.values})"
   ]
  },
  {
   "cell_type": "code",
   "execution_count": 9,
   "id": "080d6e06-3757-40ab-b73f-b76615d924cb",
   "metadata": {},
   "outputs": [
    {
     "name": "stdout",
     "output_type": "stream",
     "text": [
      "Price range analysis saved as 'Price_range_Analysis.csv'\n"
     ]
    }
   ],
   "source": [
    "#save the price range analysis data\n",
    "price_range_df.to_csv(\"Price_range_Analysis.csv\",index=False)\n",
    "print(\"Price range analysis saved as 'Price_range_Analysis.csv'\")"
   ]
  },
  {
   "cell_type": "code",
   "execution_count": null,
   "id": "933e2444-b326-442c-8bf8-230649710927",
   "metadata": {},
   "outputs": [],
   "source": [
    "pd.read_csv(\"price_range_Analysis.csv\")"
   ]
  },
  {
   "cell_type": "code",
   "execution_count": null,
   "id": "a6fe1339-e1f3-468d-b38e-be4b3a8b5b92",
   "metadata": {
    "scrolled": true
   },
   "outputs": [],
   "source": [
    "#plt.figure(figsize=(8,6))\n",
    "plt.figure(figsize=(8,6))\n",
    "#sns.barplot(x=categories, y=values, palette=\"viridis\")\n",
    "plt.bar(price_range_df['Price range'].astype(str), price_range_df['percentage'], color='skyblue')  # Correct column name\n",
    "plt.title(\"Price Range Distribution\")\n",
    "plt.xlabel(\"Price Range Category\")\n",
    "plt.ylabel(\"Percentage\")\n",
    "plt.show()"
   ]
  },
  {
   "cell_type": "code",
   "execution_count": 23,
   "id": "59a3bc16-5018-4c2f-85fc-4a5a28d0a5dc",
   "metadata": {},
   "outputs": [
    {
     "name": "stdout",
     "output_type": "stream",
     "text": [
      "Bar chart data saved as'Price_Range_BarChart.csv'\n"
     ]
    }
   ],
   "source": [
    "#save the bar chart data\n",
    "price_range_df.to_csv(\"Price_Range_BarChart.csv\", index=False)\n",
    "print(\"Bar chart data saved as'Price_Range_BarChart.csv'\")"
   ]
  },
  {
   "cell_type": "code",
   "execution_count": 24,
   "id": "26e8f37d-cbda-4309-9b6d-f3e637cd7cf4",
   "metadata": {},
   "outputs": [
    {
     "name": "stdout",
     "output_type": "stream",
     "text": [
      "Bar chart image saved as 'Price_Range_BarChart.pdf'\n"
     ]
    },
    {
     "data": {
      "text/plain": [
       "<Figure size 640x480 with 0 Axes>"
      ]
     },
     "metadata": {},
     "output_type": "display_data"
    }
   ],
   "source": [
    "#save the bar chart as an image\n",
    "plt.savefig(\"Price_Range_BarChart.pdf\", dpi=300,format=\"pdf\", bbox_inches=\"tight\")\n",
    "print(\"Bar chart image saved as 'Price_Range_BarChart.pdf'\")"
   ]
  },
  {
   "cell_type": "code",
   "execution_count": 25,
   "id": "a7c33d9e-47d0-47ed-a134-ea79d8d45309",
   "metadata": {},
   "outputs": [],
   "source": [
    "plt.show()"
   ]
  },
  {
   "cell_type": "code",
   "execution_count": null,
   "id": "ccd39ea8-436d-4831-b2d0-f544135ee90b",
   "metadata": {},
   "outputs": [],
   "source": []
  },
  {
   "cell_type": "code",
   "execution_count": null,
   "id": "530f30e7-83d4-4490-b10d-8aefbc2d9867",
   "metadata": {},
   "outputs": [],
   "source": []
  },
  {
   "cell_type": "code",
   "execution_count": null,
   "id": "bda69708-48f9-4d7f-a07d-ec66136e669e",
   "metadata": {},
   "outputs": [],
   "source": []
  },
  {
   "cell_type": "code",
   "execution_count": null,
   "id": "fc874771-23ac-494a-af31-1157342b467a",
   "metadata": {},
   "outputs": [],
   "source": []
  },
  {
   "cell_type": "code",
   "execution_count": null,
   "id": "3ef09a7d-670e-4b01-885c-2c1df02b9bb3",
   "metadata": {},
   "outputs": [],
   "source": []
  }
 ],
 "metadata": {
  "kernelspec": {
   "display_name": "Python 3 (ipykernel)",
   "language": "python",
   "name": "python3"
  },
  "language_info": {
   "codemirror_mode": {
    "name": "ipython",
    "version": 3
   },
   "file_extension": ".py",
   "mimetype": "text/x-python",
   "name": "python",
   "nbconvert_exporter": "python",
   "pygments_lexer": "ipython3",
   "version": "3.12.7"
  }
 },
 "nbformat": 4,
 "nbformat_minor": 5
}
