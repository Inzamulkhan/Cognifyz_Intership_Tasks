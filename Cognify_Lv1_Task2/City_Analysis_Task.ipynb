{
 "cells": [
  {
   "cell_type": "code",
   "execution_count": 1,
   "id": "59834ca9-7328-4aa4-8f9d-441066268f89",
   "metadata": {},
   "outputs": [],
   "source": [
    "import pandas as pd\n",
    "import matplotlib.pyplot as plt\n",
    "import seaborn as sns"
   ]
  },
  {
   "cell_type": "code",
   "execution_count": 2,
   "id": "e6aff8ee-b602-4474-8e34-681616e76078",
   "metadata": {},
   "outputs": [],
   "source": [
    "#Load the data\n",
    "df=pd.read_csv(r\"C:\\Users\\INZAMUL KHAN\\Downloads\\Cleaned_Dataset.xls\")"
   ]
  },
  {
   "cell_type": "code",
   "execution_count": 3,
   "id": "f6ba64f6-b352-423c-b95c-5d7c2c98c67b",
   "metadata": {},
   "outputs": [],
   "source": [
    "#1:Identify the city with the highest number of restaurants\n",
    "city_counts=df[\"City\"].value_counts()\n",
    "top_city = city_counts.idxmax()\n",
    "top_city_count = city_counts.max()"
   ]
  },
  {
   "cell_type": "code",
   "execution_count": 4,
   "id": "b588485d-f337-48f3-af0c-d19615df3654",
   "metadata": {},
   "outputs": [],
   "source": [
    "#Calcluate the average rating for restaurants in each city\n",
    "city_avg_rating = df.groupby(\"City\")[\"Aggregate rating\"].mean().sort_values(ascending=False)"
   ]
  },
  {
   "cell_type": "code",
   "execution_count": 5,
   "id": "fe3c50e4-afa7-4893-91d4-a00a6b29ea67",
   "metadata": {},
   "outputs": [],
   "source": [
    "#Determine the city with the highest average rating\n",
    "top_rated_city = city_avg_rating.idxmax()\n",
    "top_rated_city_avg = city_avg_rating.max()"
   ]
  },
  {
   "cell_type": "code",
   "execution_count": null,
   "id": "c4c04cfa-f01a-4b58-b001-59a4663a5b43",
   "metadata": {},
   "outputs": [],
   "source": [
    "#Display results\n",
    "print(f\"City with the highest number of restaurants: {top_city} ({top_city_count} restaurants)\")\n",
    "print(f\"City with the highest average rating : {top_rated_city} (Average rating:{top_rated_city_avg:.2f})\")"
   ]
  },
  {
   "cell_type": "code",
   "execution_count": null,
   "id": "b3911a87-e3f4-4aec-8c2e-221285c714db",
   "metadata": {},
   "outputs": [],
   "source": [
    "#Plot bar chart for top  10 cities with most restaurants\n",
    "plt.figure(figsize=(8, 6))\n",
    "sns.barplot(x=city_counts[:10].index, \n",
    "            y=city_counts[:10].values, \n",
    "            hue=city_counts[:10].index,  # Assign x variable to hue\n",
    "            palette=\"viridis\", \n",
    "            legend=False)  # Disable legend\n",
    "\n",
    "plt.title(\"Top 10 Cities by Count\")\n",
    "plt.xlabel(\"City\")\n",
    "plt.ylabel(\"Count\")\n",
    "plt.xticks(rotation=45)\n",
    "plt.grid(axis=\"y\", linestyle=\"--\", alpha=0.7)\n",
    "plt.show()"
   ]
  },
  {
   "cell_type": "code",
   "execution_count": 8,
   "id": "f1f89d2b-2dc5-4e0c-b717-28bdeadf505a",
   "metadata": {},
   "outputs": [],
   "source": [
    "#save results to a CSV file\n",
    "city_avg_rating.to_csv(\"City_Average_Ratings.csv\")"
   ]
  },
  {
   "cell_type": "code",
   "execution_count": null,
   "id": "1940a3a5-2675-4551-875c-bc33891c6d57",
   "metadata": {},
   "outputs": [],
   "source": [
    "#plot bar chart for top 10 cities with highest average rating\n",
    "plt.figure(figsize=(8, 6))\n",
    "sns.barplot(x=city_avg_rating[:10].index, \n",
    "            y=city_avg_rating[:10].values, \n",
    "            hue=city_avg_rating[:10].index,  # Assign x variable to hue\n",
    "            palette=\"viridis\", \n",
    "            legend=False)  # Disable legend\n",
    "\n",
    "plt.title(\"Top 10 Cities by Average Rating\")\n",
    "plt.xlabel(\"City\")\n",
    "plt.ylabel(\"Average Rating\")\n",
    "plt.xticks(rotation=45)\n",
    "plt.grid(axis=\"y\", linestyle=\"--\", alpha=0.7)\n",
    "plt.show()"
   ]
  },
  {
   "cell_type": "code",
   "execution_count": null,
   "id": "fbcd1854-ad06-4c1d-be38-0accdd60a048",
   "metadata": {},
   "outputs": [],
   "source": []
  },
  {
   "cell_type": "code",
   "execution_count": null,
   "id": "6777c4f4-bd17-430b-96f9-30c20bb27b79",
   "metadata": {},
   "outputs": [],
   "source": []
  },
  {
   "cell_type": "code",
   "execution_count": null,
   "id": "40905c06-5e5d-4330-b19d-1b5282706d39",
   "metadata": {},
   "outputs": [],
   "source": []
  },
  {
   "cell_type": "code",
   "execution_count": null,
   "id": "0f808b5a-71a6-42e7-bef7-6ff9857f4e96",
   "metadata": {},
   "outputs": [],
   "source": []
  },
  {
   "cell_type": "code",
   "execution_count": null,
   "id": "69ccdb2b-2fc9-4f23-be0e-386e32dfe391",
   "metadata": {},
   "outputs": [],
   "source": []
  },
  {
   "cell_type": "code",
   "execution_count": null,
   "id": "8809e832-8645-420e-862a-ee859f774e53",
   "metadata": {},
   "outputs": [],
   "source": []
  },
  {
   "cell_type": "code",
   "execution_count": null,
   "id": "241dd25e-e5f4-4e6d-b934-0b61bf8cee63",
   "metadata": {},
   "outputs": [],
   "source": []
  },
  {
   "cell_type": "code",
   "execution_count": null,
   "id": "cac49903-5ea9-4b00-b67d-baa7f2c7929c",
   "metadata": {},
   "outputs": [],
   "source": []
  }
 ],
 "metadata": {
  "kernelspec": {
   "display_name": "Python 3 (ipykernel)",
   "language": "python",
   "name": "python3"
  },
  "language_info": {
   "codemirror_mode": {
    "name": "ipython",
    "version": 3
   },
   "file_extension": ".py",
   "mimetype": "text/x-python",
   "name": "python",
   "nbconvert_exporter": "python",
   "pygments_lexer": "ipython3",
   "version": "3.12.7"
  }
 },
 "nbformat": 4,
 "nbformat_minor": 5
}
