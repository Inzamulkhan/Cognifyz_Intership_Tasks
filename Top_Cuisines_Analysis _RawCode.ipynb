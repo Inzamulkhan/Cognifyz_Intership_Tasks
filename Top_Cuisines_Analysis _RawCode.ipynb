{
 "cells": [
  {
   "cell_type": "code",
   "execution_count": 1,
   "id": "cb9ebea4-dfd5-4ddb-aa3c-5214492bc126",
   "metadata": {},
   "outputs": [],
   "source": [
    "import pandas as pd\n",
    "import matplotlib.pyplot as plt\n",
    "import seaborn as sns"
   ]
  },
  {
   "cell_type": "code",
   "execution_count": null,
   "id": "59827cca-06a8-41ed-8972-3fcd7d60c019",
   "metadata": {
    "scrolled": true
   },
   "outputs": [],
   "source": [
    "#load the dataset\n",
    "df=pd.read_csv(r'C:\\Users\\INZAMUL KHAN\\Cleaned_Dataset.csv')\n",
    "df.head()"
   ]
  },
  {
   "cell_type": "code",
   "execution_count": 3,
   "id": "ad7e8a6b-8078-4420-af43-e229b219af93",
   "metadata": {},
   "outputs": [],
   "source": [
    "#Clean and prepare trhe data\n",
    "#Remove missing values in 'Cusinies' and separate multiple cuisines\n",
    "cuisine_series = df['Cuisines'].dropna().str.split(',').explode()"
   ]
  },
  {
   "cell_type": "code",
   "execution_count": 4,
   "id": "7b1cd5c5-1641-423f-a0ce-251ae91cb5d0",
   "metadata": {},
   "outputs": [],
   "source": [
    "#identify the top 3 most common cusinses\n",
    "top_cuisines = cuisine_series.value_counts().head(3)"
   ]
  },
  {
   "cell_type": "code",
   "execution_count": 5,
   "id": "b3587cab-ee72-45f0-888c-29ab539d0155",
   "metadata": {},
   "outputs": [],
   "source": [
    "#Calculate the percentage of restaurants serving each of the top cuisines\n",
    "total_restaurants= df.shape[0]\n",
    "top_cuisines_percentage = (top_cuisines / total_restaurants) *100"
   ]
  },
  {
   "cell_type": "code",
   "execution_count": null,
   "id": "5c4988f2-2755-4d16-8a8b-db8ddcb0ae12",
   "metadata": {
    "scrolled": true
   },
   "outputs": [],
   "source": [
    "#display the results\n",
    "print(\"Top 3 Cuisines:\\n\",top_cuisines)\n",
    "print(\"\\nPercentage of Restaurants Serving Top Cuisines:\\n\", top_cuisines_percentage)"
   ]
  },
  {
   "cell_type": "code",
   "execution_count": null,
   "id": "ff980f11-0176-49ba-9fbc-ff7b0a5ae448",
   "metadata": {},
   "outputs": [],
   "source": [
    "#Visualize the top  3  cuisines with a bar plot\n",
    "plt.figure(figsize=(8,6))"
   ]
  },
  {
   "cell_type": "code",
   "execution_count": null,
   "id": "0a83abc1-d50a-43c3-b052-f80e3323aa06",
   "metadata": {},
   "outputs": [],
   "source": [
    "sns.barplot(\n",
    "    x=top_cuisines.values, \n",
    "    y=top_cuisines.index, \n",
    "    hue=top_cuisines.index,  # Assign hue to avoid FutureWarning\n",
    "    palette='viridis', \n",
    "    legend=False  # Disable legend since hue is just for color mapping\n",
    ")\n",
    "\n",
    "# Labels and title\n",
    "plt.title('Top 3 Most Common Cuisines')\n",
    "plt.xlabel('Number of Restaurants')\n",
    "plt.ylabel('Cuisine')\n",
    "\n",
    "# Add grid lines for better readability\n",
    "plt.grid(axis='x', linestyle='--', alpha=0.7)\n",
    "\n",
    "# Show the plot\n",
    "plt.show()"
   ]
  },
  {
   "cell_type": "code",
   "execution_count": null,
   "id": "7947f65f-d77c-4e5c-b9b6-e6d2bce47ef3",
   "metadata": {},
   "outputs": [],
   "source": [
    "# Create the DataFrame \n",
    "top_cuisines_df = pd.DataFrame({'Cuisine': top_cuisines.index, \n",
    "                                'Restaurant Count': top_cuisines.values,\n",
    "                                'Percentage': top_cuisines_percentage.values})\n",
    "\n",
    "# Define the file path\n",
    "output_file_path = \"top_cuisines_analysis.csv\"\n",
    "\n",
    "# Save DataFrame to CSV\n",
    "top_cuisines_df.to_csv(output_file_path, index=False)\n",
    "\n",
    "print(\"File saved successfully at:\", output_file_path)"
   ]
  },
  {
   "cell_type": "code",
   "execution_count": null,
   "id": "cf5914c7-beb8-440f-b06c-ecdf09491007",
   "metadata": {},
   "outputs": [],
   "source": [
    "pd.read_csv(\"Top_Cuisines_Analysis.csv\")"
   ]
  },
  {
   "cell_type": "code",
   "execution_count": null,
   "id": "e6afc5d1-fcbb-457b-a070-3bc812505f55",
   "metadata": {},
   "outputs": [],
   "source": []
  },
  {
   "cell_type": "code",
   "execution_count": null,
   "id": "15a8918c-1a69-4516-aca8-5d09f8b764d6",
   "metadata": {},
   "outputs": [],
   "source": []
  },
  {
   "cell_type": "code",
   "execution_count": null,
   "id": "81a126df-1d3d-437a-af3b-886232e4365b",
   "metadata": {},
   "outputs": [],
   "source": []
  },
  {
   "cell_type": "code",
   "execution_count": null,
   "id": "430ae011-a1a5-4318-93b8-8fe214eaa079",
   "metadata": {},
   "outputs": [],
   "source": []
  },
  {
   "cell_type": "code",
   "execution_count": null,
   "id": "75ee6a28-466c-4d6a-b2ea-b5a5c56cae8f",
   "metadata": {},
   "outputs": [],
   "source": []
  },
  {
   "cell_type": "code",
   "execution_count": null,
   "id": "6ef6e2f1-75ed-4400-9c4b-3e4d7966ee0f",
   "metadata": {},
   "outputs": [],
   "source": []
  },
  {
   "cell_type": "code",
   "execution_count": null,
   "id": "23adcb74-0042-4787-a75b-9622b7a19f87",
   "metadata": {},
   "outputs": [],
   "source": []
  }
 ],
 "metadata": {
  "kernelspec": {
   "display_name": "Python 3 (ipykernel)",
   "language": "python",
   "name": "python3"
  },
  "language_info": {
   "codemirror_mode": {
    "name": "ipython",
    "version": 3
   },
   "file_extension": ".py",
   "mimetype": "text/x-python",
   "name": "python",
   "nbconvert_exporter": "python",
   "pygments_lexer": "ipython3",
   "version": "3.12.7"
  }
 },
 "nbformat": 4,
 "nbformat_minor": 5
}
