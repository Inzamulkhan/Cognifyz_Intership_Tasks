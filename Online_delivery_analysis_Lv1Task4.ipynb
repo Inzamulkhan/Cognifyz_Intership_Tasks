{
 "cells": [
  {
   "cell_type": "code",
   "execution_count": 1,
   "id": "fadf6142-5ff7-4361-8e17-8329b1688404",
   "metadata": {},
   "outputs": [],
   "source": [
    "import pandas as pd\n",
    "import matplotlib.pyplot as plt\n",
    "import seaborn as sns"
   ]
  },
  {
   "cell_type": "code",
   "execution_count": 2,
   "id": "26d52c7a-b1be-4a7f-875b-d551deb86240",
   "metadata": {},
   "outputs": [],
   "source": [
    "#load the dataset\n",
    "file_path = r\"C:\\Users\\INZAMUL KHAN\\Downloads\\Dataset .csv\"\n",
    "df=pd.read_csv(file_path)"
   ]
  },
  {
   "cell_type": "code",
   "execution_count": null,
   "id": "983354a9-102c-43bd-a576-76acba7cd9c4",
   "metadata": {
    "scrolled": true
   },
   "outputs": [],
   "source": [
    "df.info()"
   ]
  },
  {
   "cell_type": "code",
   "execution_count": null,
   "id": "9220b0f1-5a07-4a1c-808a-e19aa1b38b52",
   "metadata": {
    "scrolled": true
   },
   "outputs": [],
   "source": [
    "df.head()"
   ]
  },
  {
   "cell_type": "code",
   "execution_count": 5,
   "id": "4b828617-fb95-4c85-8f37-065a104379dd",
   "metadata": {},
   "outputs": [],
   "source": [
    "#Function to clean the 'Has online delivery coloumn\n",
    "def clean_data(df):\n",
    "    df['Has Online delivery'] = df['Has Online delivery'].str.strip().str.lower()\n",
    "    return df\n",
    "#clean the dataset\n",
    "df=clean_data(df)"
   ]
  },
  {
   "cell_type": "code",
   "execution_count": null,
   "id": "c5234ec2-7444-4286-832c-534012b01c3c",
   "metadata": {
    "scrolled": true
   },
   "outputs": [],
   "source": [
    "#calculate percentageod of restaurants offering online delivery\n",
    "def calculate_online_delivery_percentage(df):\n",
    "    return df['Has Online delivery'].value_counts(normalize=True)*100\n",
    "#get the percentage\n",
    "online_delivery_percentages = calculate_online_delivery_percentage(df)\n",
    "print(online_delivery_percentages)"
   ]
  },
  {
   "cell_type": "code",
   "execution_count": 7,
   "id": "bbfbf5a1-a122-46fd-a44c-042791e99b2c",
   "metadata": {},
   "outputs": [],
   "source": [
    "#function to calculate average ratings for restaurants with and without online delivery\n",
    "def compare_ratings(df):\n",
    "    avg_rating_with_delivery = df[df['Has Online delivery'] == 'yes']['Aggregate rating'].mean()\n",
    "    avg_rating_without_delivery = df[df['Has Online delivery'] == 'no']['Aggregate rating'].mean()\n",
    "    return avg_rating_with_delivery,avg_rating_without_delivery"
   ]
  },
  {
   "cell_type": "code",
   "execution_count": null,
   "id": "7f2559be-2de2-4535-884e-548f6854f0dd",
   "metadata": {},
   "outputs": [],
   "source": [
    "#get average ratings\n",
    "avg_rating_with_delivery,avg_rating_without_delivery = compare_ratings(df)\n",
    "print(f\"Average Rating (with Online Delivery): {avg_rating_with_delivery:.2f}\")\n",
    "print(f\"Average Rating (without Online Delivery): {avg_rating_without_delivery:.2f}\")"
   ]
  },
  {
   "cell_type": "code",
   "execution_count": 9,
   "id": "a9e9de08-ac5d-45bf-9a03-45957fbe06db",
   "metadata": {},
   "outputs": [],
   "source": [
    "#function to save results to csv\n",
    "def save_results(online_delivery_percentages, avg_rating_with_delivery, avg_rating_without_delivery):\n",
    "    results_df = pd.DataFrame({\n",
    "        \"Category\":[\"With Online Delivery\",\"Without Online Delivery\"],\n",
    "        \"Percentage\": [online_delivery_percentages.get('yes',0),online_delivery_percentages.get('no',0)],\n",
    "        \"Average Ratings\": [avg_rating_with_delivery, avg_rating_without_delivery]\n",
    "    })\n",
    "    results_df.to_csv(\"Online_Delivery_Analysis.csv\",index=False)\n",
    "    return results_df"
   ]
  },
  {
   "cell_type": "code",
   "execution_count": 10,
   "id": "e64c4e29-2326-404b-83c6-e114af43d5d3",
   "metadata": {},
   "outputs": [
    {
     "name": "stdout",
     "output_type": "stream",
     "text": [
      "Results saved succesfully!\n"
     ]
    }
   ],
   "source": [
    "#save results\n",
    "results_df = save_results(online_delivery_percentages, avg_rating_with_delivery, avg_rating_without_delivery)\n",
    "print(\"Results saved succesfully!\")"
   ]
  },
  {
   "cell_type": "code",
   "execution_count": null,
   "id": "04260966-c0af-4616-b480-d87943a41c23",
   "metadata": {
    "scrolled": true
   },
   "outputs": [],
   "source": [
    "results_df"
   ]
  },
  {
   "cell_type": "code",
   "execution_count": null,
   "id": "ceed98b0-6ccf-4ef5-8058-bcebea0b1557",
   "metadata": {},
   "outputs": [],
   "source": [
    "def plot_ratings(avg_rating_with_delivery, avg_rating_without_delivery):\n",
    "    # Define categories and ratings\n",
    "    categories = [\"With Online Delivery\", \"Without Online Delivery\"]\n",
    "    ratings = [avg_rating_with_delivery, avg_rating_without_delivery]\n",
    "\n",
    "    # Create figure\n",
    "    plt.figure(figsize=(8,5))\n",
    "\n",
    "    # Corrected bar plot: Assign 'x' to 'hue' and set legend=False\n",
    "    sns.barplot(x=categories, y=ratings, hue=categories, palette=[\"green\", \"red\"], legend=False)\n",
    "\n",
    "    # Labels and title\n",
    "    plt.xlabel(\"Category\")\n",
    "    plt.ylabel(\"Average Ratings\")\n",
    "    plt.title(\"Comparison of Restaurants Ratings Based on Online Delivery\")\n",
    "    plt.ylim(0, 5)\n",
    "\n",
    "    # Show plot\n",
    "    plt.show()\n",
    "\n",
    "plot_ratings(4.2, 3.8)"
   ]
  },
  {
   "cell_type": "code",
   "execution_count": null,
   "id": "bb64e8ff-0378-4fb1-9b13-03e110245d46",
   "metadata": {},
   "outputs": [],
   "source": []
  },
  {
   "cell_type": "code",
   "execution_count": null,
   "id": "5e16d826-a8cc-44be-91d5-c732978b3a8d",
   "metadata": {},
   "outputs": [],
   "source": []
  },
  {
   "cell_type": "code",
   "execution_count": null,
   "id": "958059df-1b49-482f-b359-09b6abd526d9",
   "metadata": {},
   "outputs": [],
   "source": []
  }
 ],
 "metadata": {
  "kernelspec": {
   "display_name": "Python 3 (ipykernel)",
   "language": "python",
   "name": "python3"
  },
  "language_info": {
   "codemirror_mode": {
    "name": "ipython",
    "version": 3
   },
   "file_extension": ".py",
   "mimetype": "text/x-python",
   "name": "python",
   "nbconvert_exporter": "python",
   "pygments_lexer": "ipython3",
   "version": "3.12.7"
  }
 },
 "nbformat": 4,
 "nbformat_minor": 5
}
